{
 "cells": [
  {
   "cell_type": "code",
   "execution_count": null,
   "metadata": {
    "application/vnd.databricks.v1+cell": {
     "cellMetadata": {
      "byteLimit": 2048000,
      "rowLimit": 10000
     },
     "inputWidgets": {},
     "nuid": "bc2ed6d1-7b7f-40da-9d4b-4f58a70348ad",
     "showTitle": true,
     "title": "creating a table ,delta lake allows acid transactions like dml commands but regular tables cannot allow acid"
    }
   },
   "outputs": [
    {
     "data": {
      "text/html": [
       "<style scoped>\n",
       "  .table-result-container {\n",
       "    max-height: 300px;\n",
       "    overflow: auto;\n",
       "  }\n",
       "  table, th, td {\n",
       "    border: 1px solid black;\n",
       "    border-collapse: collapse;\n",
       "  }\n",
       "  th, td {\n",
       "    padding: 5px;\n",
       "  }\n",
       "  th {\n",
       "    text-align: left;\n",
       "  }\n",
       "</style><div class='table-result-container'><table class='table-result'><thead style='background-color: white'><tr><th>name</th><th>id</th><th>age</th><th>department</th><th>salary</th></tr></thead><tbody><tr><td>user1</td><td>1</td><td>25</td><td>Jr manager</td><td>98000</td></tr><tr><td>user2</td><td>2</td><td>30</td><td>sr manager</td><td>100000</td></tr><tr><td>user3</td><td>6</td><td>35</td><td>sr manager</td><td>100000</td></tr><tr><td>user4</td><td>4</td><td>32</td><td>head</td><td>70000</td></tr><tr><td>user5</td><td>1</td><td>45</td><td>Jr manager</td><td>60000</td></tr><tr><td>user6</td><td>6</td><td>47</td><td>head2</td><td>45000</td></tr><tr><td>user7</td><td>5</td><td>21</td><td>worker</td><td>25000</td></tr><tr><td>user8</td><td>1</td><td>22</td><td>Jr manager</td><td>50000</td></tr><tr><td>user9</td><td>10</td><td>54</td><td>lead</td><td>45000</td></tr><tr><td>user10</td><td>59</td><td>52</td><td>lead2</td><td>50000</td></tr><tr><td>user11</td><td>6</td><td>25</td><td>head2</td><td>50000</td></tr><tr><td>user12</td><td>2</td><td>27</td><td>sr manager</td><td>70000</td></tr><tr><td>user13</td><td>59</td><td>54</td><td>lead2</td><td>45000</td></tr><tr><td>user14</td><td>2</td><td>25</td><td>sr manager</td><td>70000</td></tr><tr><td>user15</td><td>1</td><td>32</td><td>Jr manager</td><td>50000</td></tr><tr><td>user16</td><td>3</td><td>37</td><td>worker</td><td>25000</td></tr><tr><td>user17</td><td>74</td><td>63</td><td>Manager</td><td>68000</td></tr><tr><td>user18</td><td>7</td><td>25</td><td>head</td><td>45000</td></tr><tr><td>user19</td><td>10</td><td>32</td><td>lvl2 head</td><td>52000</td></tr><tr><td>user20</td><td>10</td><td>32</td><td>lvl2 head</td><td>52000</td></tr></tbody></table></div>"
      ]
     },
     "metadata": {
      "application/vnd.databricks.v1+output": {
       "addedWidgets": {},
       "aggData": [],
       "aggError": "",
       "aggOverflow": false,
       "aggSchema": [],
       "aggSeriesLimitReached": false,
       "aggType": "",
       "arguments": {},
       "columnCustomDisplayInfos": {},
       "data": [
        [
         "user1",
         1,
         25,
         "Jr manager",
         98000
        ],
        [
         "user2",
         2,
         30,
         "sr manager",
         100000
        ],
        [
         "user3",
         6,
         35,
         "sr manager",
         100000
        ],
        [
         "user4",
         4,
         32,
         "head",
         70000
        ],
        [
         "user5",
         1,
         45,
         "Jr manager",
         60000
        ],
        [
         "user6",
         6,
         47,
         "head2",
         45000
        ],
        [
         "user7",
         5,
         21,
         "worker",
         25000
        ],
        [
         "user8",
         1,
         22,
         "Jr manager",
         50000
        ],
        [
         "user9",
         10,
         54,
         "lead",
         45000
        ],
        [
         "user10",
         59,
         52,
         "lead2",
         50000
        ],
        [
         "user11",
         6,
         25,
         "head2",
         50000
        ],
        [
         "user12",
         2,
         27,
         "sr manager",
         70000
        ],
        [
         "user13",
         59,
         54,
         "lead2",
         45000
        ],
        [
         "user14",
         2,
         25,
         "sr manager",
         70000
        ],
        [
         "user15",
         1,
         32,
         "Jr manager",
         50000
        ],
        [
         "user16",
         3,
         37,
         "worker",
         25000
        ],
        [
         "user17",
         74,
         63,
         "Manager",
         68000
        ],
        [
         "user18",
         7,
         25,
         "head",
         45000
        ],
        [
         "user19",
         10,
         32,
         "lvl2 head",
         52000
        ],
        [
         "user20",
         10,
         32,
         "lvl2 head",
         52000
        ]
       ],
       "datasetInfos": [],
       "dbfsResultPath": null,
       "isJsonSchema": true,
       "metadata": {},
       "overflow": false,
       "plotOptions": {
        "customPlotOptions": {},
        "displayType": "table",
        "pivotAggregation": null,
        "pivotColumns": null,
        "xColumns": null,
        "yColumns": null
       },
       "removedWidgets": [],
       "schema": [
        {
         "metadata": "{}",
         "name": "name",
         "type": "\"string\""
        },
        {
         "metadata": "{}",
         "name": "id",
         "type": "\"integer\""
        },
        {
         "metadata": "{}",
         "name": "age",
         "type": "\"integer\""
        },
        {
         "metadata": "{}",
         "name": "department",
         "type": "\"string\""
        },
        {
         "metadata": "{}",
         "name": "salary",
         "type": "\"integer\""
        }
       ],
       "type": "table"
      }
     },
     "output_type": "display_data"
    }
   ],
   "source": [
    "\n",
    "# File location and type\n",
    "file_location = \"/FileStore/tables/salary-2.csv\"\n",
    "file_type = \"csv\"\n",
    "\n",
    "# CSV options\n",
    "infer_schema = \"true\"\n",
    "first_row_is_header = \"true\"\n",
    "delimiter = \",\"\n",
    "\n",
    "# The applied options are for CSV files. For other file types, these will be ignored.\n",
    "df = spark.read.format(file_type) \\\n",
    "  .option(\"inferSchema\", infer_schema) \\\n",
    "  .option(\"header\", first_row_is_header) \\\n",
    "  .option(\"sep\", delimiter) \\\n",
    "  .load(file_location)\n",
    "\n",
    "display(df)"
   ]
  },
  {
   "cell_type": "code",
   "execution_count": null,
   "metadata": {
    "application/vnd.databricks.v1+cell": {
     "cellMetadata": {
      "byteLimit": 2048000,
      "rowLimit": 10000
     },
     "inputWidgets": {},
     "nuid": "43ba79ea-c665-4c5e-85fa-46b60c918efb",
     "showTitle": false,
     "title": ""
    }
   },
   "outputs": [],
   "source": [
    "# Create a view or table\n",
    "\n",
    "temp_table_name = \"salary2\"\n",
    "\n",
    "df.createOrReplaceTempView(temp_table_name)"
   ]
  },
  {
   "cell_type": "code",
   "execution_count": null,
   "metadata": {
    "application/vnd.databricks.v1+cell": {
     "cellMetadata": {
      "byteLimit": 2048000,
      "implicitDf": true,
      "rowLimit": 10000
     },
     "inputWidgets": {},
     "nuid": "7cff978a-2b26-4106-b307-f1be2824ecd4",
     "showTitle": false,
     "title": ""
    }
   },
   "outputs": [
    {
     "data": {
      "text/html": [
       "<style scoped>\n",
       "  .table-result-container {\n",
       "    max-height: 300px;\n",
       "    overflow: auto;\n",
       "  }\n",
       "  table, th, td {\n",
       "    border: 1px solid black;\n",
       "    border-collapse: collapse;\n",
       "  }\n",
       "  th, td {\n",
       "    padding: 5px;\n",
       "  }\n",
       "  th {\n",
       "    text-align: left;\n",
       "  }\n",
       "</style><div class='table-result-container'><table class='table-result'><thead style='background-color: white'><tr><th>name</th><th>id</th><th>age</th><th>department</th><th>salary</th></tr></thead><tbody><tr><td>user1</td><td>1</td><td>25</td><td>Jr manager</td><td>98000</td></tr><tr><td>user2</td><td>2</td><td>30</td><td>sr manager</td><td>100000</td></tr><tr><td>user3</td><td>6</td><td>35</td><td>sr manager</td><td>100000</td></tr><tr><td>user4</td><td>4</td><td>32</td><td>head</td><td>70000</td></tr><tr><td>user5</td><td>1</td><td>45</td><td>Jr manager</td><td>60000</td></tr><tr><td>user6</td><td>6</td><td>47</td><td>head2</td><td>45000</td></tr><tr><td>user7</td><td>5</td><td>21</td><td>worker</td><td>25000</td></tr><tr><td>user8</td><td>1</td><td>22</td><td>Jr manager</td><td>50000</td></tr><tr><td>user9</td><td>10</td><td>54</td><td>lead</td><td>45000</td></tr><tr><td>user10</td><td>59</td><td>52</td><td>lead2</td><td>50000</td></tr><tr><td>user11</td><td>6</td><td>25</td><td>head2</td><td>50000</td></tr><tr><td>user12</td><td>2</td><td>27</td><td>sr manager</td><td>70000</td></tr><tr><td>user13</td><td>59</td><td>54</td><td>lead2</td><td>45000</td></tr><tr><td>user14</td><td>2</td><td>25</td><td>sr manager</td><td>70000</td></tr><tr><td>user15</td><td>1</td><td>32</td><td>Jr manager</td><td>50000</td></tr><tr><td>user16</td><td>3</td><td>37</td><td>worker</td><td>25000</td></tr><tr><td>user17</td><td>74</td><td>63</td><td>Manager</td><td>68000</td></tr><tr><td>user18</td><td>7</td><td>25</td><td>head</td><td>45000</td></tr><tr><td>user19</td><td>10</td><td>32</td><td>lvl2 head</td><td>52000</td></tr><tr><td>user20</td><td>10</td><td>32</td><td>lvl2 head</td><td>52000</td></tr></tbody></table></div>"
      ]
     },
     "metadata": {
      "application/vnd.databricks.v1+output": {
       "addedWidgets": {},
       "aggData": [],
       "aggError": "",
       "aggOverflow": false,
       "aggSchema": [],
       "aggSeriesLimitReached": false,
       "aggType": "",
       "arguments": {},
       "columnCustomDisplayInfos": {},
       "data": [
        [
         "user1",
         1,
         25,
         "Jr manager",
         98000
        ],
        [
         "user2",
         2,
         30,
         "sr manager",
         100000
        ],
        [
         "user3",
         6,
         35,
         "sr manager",
         100000
        ],
        [
         "user4",
         4,
         32,
         "head",
         70000
        ],
        [
         "user5",
         1,
         45,
         "Jr manager",
         60000
        ],
        [
         "user6",
         6,
         47,
         "head2",
         45000
        ],
        [
         "user7",
         5,
         21,
         "worker",
         25000
        ],
        [
         "user8",
         1,
         22,
         "Jr manager",
         50000
        ],
        [
         "user9",
         10,
         54,
         "lead",
         45000
        ],
        [
         "user10",
         59,
         52,
         "lead2",
         50000
        ],
        [
         "user11",
         6,
         25,
         "head2",
         50000
        ],
        [
         "user12",
         2,
         27,
         "sr manager",
         70000
        ],
        [
         "user13",
         59,
         54,
         "lead2",
         45000
        ],
        [
         "user14",
         2,
         25,
         "sr manager",
         70000
        ],
        [
         "user15",
         1,
         32,
         "Jr manager",
         50000
        ],
        [
         "user16",
         3,
         37,
         "worker",
         25000
        ],
        [
         "user17",
         74,
         63,
         "Manager",
         68000
        ],
        [
         "user18",
         7,
         25,
         "head",
         45000
        ],
        [
         "user19",
         10,
         32,
         "lvl2 head",
         52000
        ],
        [
         "user20",
         10,
         32,
         "lvl2 head",
         52000
        ]
       ],
       "datasetInfos": [],
       "dbfsResultPath": null,
       "isJsonSchema": true,
       "metadata": {
        "dataframeName": "_sqldf",
        "executionCount": 40
       },
       "overflow": false,
       "plotOptions": {
        "customPlotOptions": {},
        "displayType": "table",
        "pivotAggregation": null,
        "pivotColumns": null,
        "xColumns": null,
        "yColumns": null
       },
       "removedWidgets": [],
       "schema": [
        {
         "metadata": "{}",
         "name": "name",
         "type": "\"string\""
        },
        {
         "metadata": "{}",
         "name": "id",
         "type": "\"integer\""
        },
        {
         "metadata": "{}",
         "name": "age",
         "type": "\"integer\""
        },
        {
         "metadata": "{}",
         "name": "department",
         "type": "\"string\""
        },
        {
         "metadata": "{}",
         "name": "salary",
         "type": "\"integer\""
        }
       ],
       "type": "table"
      }
     },
     "output_type": "display_data"
    }
   ],
   "source": [
    "%sql\n",
    "select * from `salary2`"
   ]
  },
  {
   "cell_type": "code",
   "execution_count": null,
   "metadata": {
    "application/vnd.databricks.v1+cell": {
     "cellMetadata": {
      "byteLimit": 2048000,
      "rowLimit": 10000
     },
     "inputWidgets": {},
     "nuid": "ebf80b21-07ae-4336-aace-a3dd20f6c605",
     "showTitle": false,
     "title": ""
    }
   },
   "outputs": [],
   "source": [
    "# With this registered as a temp view, it will only be available to this particular notebook. If you'd like other users to be able to query this table, you can also create a table from the DataFrame.\n",
    "# Once saved, this table will persist across cluster restarts as well as allow various users across different notebooks to query this data.\n",
    "# To do so, choose your table name and uncomment the bottom line.\n",
    "\n",
    "permanent_table_name = \"salary_2_csv\"\n",
    "\n",
    "df.write.format(\"parquet\").saveAsTable(permanent_table_name)"
   ]
  },
  {
   "cell_type": "code",
   "execution_count": null,
   "metadata": {
    "application/vnd.databricks.v1+cell": {
     "cellMetadata": {
      "byteLimit": 2048000,
      "rowLimit": 10000
     },
     "inputWidgets": {},
     "nuid": "44b5d96c-521e-42c6-bd3d-a6def4c6ab28",
     "showTitle": false,
     "title": ""
    }
   },
   "outputs": [
    {
     "data": {
      "text/plain": [
       "<delta.tables.DeltaTable at 0x7fd510272b00>"
      ]
     },
     "execution_count": 12,
     "metadata": {},
     "output_type": "execute_result"
    }
   ],
   "source": [
    "from delta.tables import *\n",
    "DeltaTable.create(spark)\\\n",
    "    .tableName(\"salary\")\\\n",
    "    .addColumn(\"name\",\"STRING\")\\\n",
    "    .addColumn(\"id\",\"INT\")\\\n",
    "    .addColumn(\"age\",\"INT\")\\\n",
    "    .addColumn(\"department\",\"STRING\")\\\n",
    "    .addColumn(\"salary\",\"INT\")\\\n",
    "    .execute()\n",
    "    "
   ]
  },
  {
   "cell_type": "code",
   "execution_count": null,
   "metadata": {
    "application/vnd.databricks.v1+cell": {
     "cellMetadata": {
      "byteLimit": 2048000,
      "rowLimit": 10000
     },
     "inputWidgets": {},
     "nuid": "7e118ddc-3f3d-4fcc-aecf-7c70d61e26f9",
     "showTitle": false,
     "title": ""
    }
   },
   "outputs": [],
   "source": [
    "df.write.insertInto(\"salary\",overwrite=False)"
   ]
  },
  {
   "cell_type": "code",
   "execution_count": null,
   "metadata": {
    "application/vnd.databricks.v1+cell": {
     "cellMetadata": {
      "byteLimit": 2048000,
      "rowLimit": 10000
     },
     "inputWidgets": {},
     "nuid": "e2c43e63-2c18-44e2-a0c7-73a54599a96d",
     "showTitle": false,
     "title": ""
    }
   },
   "outputs": [
    {
     "data": {
      "text/html": [
       "<style scoped>\n",
       "  .table-result-container {\n",
       "    max-height: 300px;\n",
       "    overflow: auto;\n",
       "  }\n",
       "  table, th, td {\n",
       "    border: 1px solid black;\n",
       "    border-collapse: collapse;\n",
       "  }\n",
       "  th, td {\n",
       "    padding: 5px;\n",
       "  }\n",
       "  th {\n",
       "    text-align: left;\n",
       "  }\n",
       "</style><div class='table-result-container'><table class='table-result'><thead style='background-color: white'><tr><th>name</th><th>id</th><th>age</th><th>department</th><th>salary</th></tr></thead><tbody><tr><td>user1</td><td>1</td><td>25</td><td>Jr manager</td><td>98000</td></tr><tr><td>user2</td><td>2</td><td>30</td><td>sr manager</td><td>100000</td></tr><tr><td>user3</td><td>6</td><td>35</td><td>sr manager</td><td>100000</td></tr><tr><td>user4</td><td>4</td><td>32</td><td>head</td><td>70000</td></tr><tr><td>user5</td><td>1</td><td>45</td><td>Jr manager</td><td>60000</td></tr><tr><td>user6</td><td>6</td><td>47</td><td>head2</td><td>45000</td></tr><tr><td>user7</td><td>5</td><td>21</td><td>worker</td><td>25000</td></tr><tr><td>user8</td><td>1</td><td>22</td><td>Jr manager</td><td>50000</td></tr><tr><td>user9</td><td>10</td><td>54</td><td>lead</td><td>45000</td></tr><tr><td>user10</td><td>59</td><td>52</td><td>lead2</td><td>50000</td></tr><tr><td>user11</td><td>6</td><td>25</td><td>head2</td><td>50000</td></tr><tr><td>user12</td><td>2</td><td>27</td><td>sr manager</td><td>70000</td></tr><tr><td>user13</td><td>59</td><td>54</td><td>lead2</td><td>45000</td></tr><tr><td>user14</td><td>2</td><td>25</td><td>sr manager</td><td>70000</td></tr><tr><td>user15</td><td>1</td><td>32</td><td>Jr manager</td><td>50000</td></tr><tr><td>user16</td><td>3</td><td>37</td><td>worker</td><td>25000</td></tr><tr><td>user17</td><td>74</td><td>63</td><td>Manager</td><td>68000</td></tr><tr><td>user18</td><td>7</td><td>25</td><td>head</td><td>45000</td></tr><tr><td>user19</td><td>10</td><td>32</td><td>lvl2 head</td><td>52000</td></tr><tr><td>user20</td><td>10</td><td>32</td><td>lvl2 head</td><td>52000</td></tr></tbody></table></div>"
      ]
     },
     "metadata": {
      "application/vnd.databricks.v1+output": {
       "addedWidgets": {},
       "aggData": [],
       "aggError": "",
       "aggOverflow": false,
       "aggSchema": [],
       "aggSeriesLimitReached": false,
       "aggType": "",
       "arguments": {},
       "columnCustomDisplayInfos": {},
       "data": [
        [
         "user1",
         1,
         25,
         "Jr manager",
         98000
        ],
        [
         "user2",
         2,
         30,
         "sr manager",
         100000
        ],
        [
         "user3",
         6,
         35,
         "sr manager",
         100000
        ],
        [
         "user4",
         4,
         32,
         "head",
         70000
        ],
        [
         "user5",
         1,
         45,
         "Jr manager",
         60000
        ],
        [
         "user6",
         6,
         47,
         "head2",
         45000
        ],
        [
         "user7",
         5,
         21,
         "worker",
         25000
        ],
        [
         "user8",
         1,
         22,
         "Jr manager",
         50000
        ],
        [
         "user9",
         10,
         54,
         "lead",
         45000
        ],
        [
         "user10",
         59,
         52,
         "lead2",
         50000
        ],
        [
         "user11",
         6,
         25,
         "head2",
         50000
        ],
        [
         "user12",
         2,
         27,
         "sr manager",
         70000
        ],
        [
         "user13",
         59,
         54,
         "lead2",
         45000
        ],
        [
         "user14",
         2,
         25,
         "sr manager",
         70000
        ],
        [
         "user15",
         1,
         32,
         "Jr manager",
         50000
        ],
        [
         "user16",
         3,
         37,
         "worker",
         25000
        ],
        [
         "user17",
         74,
         63,
         "Manager",
         68000
        ],
        [
         "user18",
         7,
         25,
         "head",
         45000
        ],
        [
         "user19",
         10,
         32,
         "lvl2 head",
         52000
        ],
        [
         "user20",
         10,
         32,
         "lvl2 head",
         52000
        ]
       ],
       "datasetInfos": [],
       "dbfsResultPath": null,
       "isJsonSchema": true,
       "metadata": {},
       "overflow": false,
       "plotOptions": {
        "customPlotOptions": {},
        "displayType": "table",
        "pivotAggregation": null,
        "pivotColumns": null,
        "xColumns": null,
        "yColumns": null
       },
       "removedWidgets": [],
       "schema": [
        {
         "metadata": "{}",
         "name": "name",
         "type": "\"string\""
        },
        {
         "metadata": "{}",
         "name": "id",
         "type": "\"integer\""
        },
        {
         "metadata": "{}",
         "name": "age",
         "type": "\"integer\""
        },
        {
         "metadata": "{}",
         "name": "department",
         "type": "\"string\""
        },
        {
         "metadata": "{}",
         "name": "salary",
         "type": "\"integer\""
        }
       ],
       "type": "table"
      }
     },
     "output_type": "display_data"
    }
   ],
   "source": [
    "display(spark.table(\"salary\"))"
   ]
  },
  {
   "cell_type": "code",
   "execution_count": null,
   "metadata": {
    "application/vnd.databricks.v1+cell": {
     "cellMetadata": {
      "byteLimit": 2048000,
      "rowLimit": 10000
     },
     "inputWidgets": {},
     "nuid": "b72f8a92-ea49-43f8-b2aa-bb611a5925c6",
     "showTitle": false,
     "title": ""
    }
   },
   "outputs": [],
   "source": [
    "df.write.format(\"parquet\").mode(\"append\").save(\"/FileStore/tables/parquet/\")"
   ]
  },
  {
   "cell_type": "code",
   "execution_count": null,
   "metadata": {
    "application/vnd.databricks.v1+cell": {
     "cellMetadata": {
      "byteLimit": 2048000,
      "rowLimit": 10000
     },
     "inputWidgets": {},
     "nuid": "3566c5e9-206b-465b-b063-7cc1cb740c08",
     "showTitle": false,
     "title": ""
    }
   },
   "outputs": [
    {
     "data": {
      "text/html": [
       "<style scoped>\n",
       "  .table-result-container {\n",
       "    max-height: 300px;\n",
       "    overflow: auto;\n",
       "  }\n",
       "  table, th, td {\n",
       "    border: 1px solid black;\n",
       "    border-collapse: collapse;\n",
       "  }\n",
       "  th, td {\n",
       "    padding: 5px;\n",
       "  }\n",
       "  th {\n",
       "    text-align: left;\n",
       "  }\n",
       "</style><div class='table-result-container'><table class='table-result'><thead style='background-color: white'><tr><th>path</th><th>name</th><th>size</th><th>modificationTime</th></tr></thead><tbody><tr><td>dbfs:/FileStore/tables/parquet/_SUCCESS</td><td>_SUCCESS</td><td>0</td><td>1704474097000</td></tr><tr><td>dbfs:/FileStore/tables/parquet/_committed_1919700065082306584</td><td>_committed_1919700065082306584</td><td>123</td><td>1704474097000</td></tr><tr><td>dbfs:/FileStore/tables/parquet/_started_1919700065082306584</td><td>_started_1919700065082306584</td><td>0</td><td>1704474097000</td></tr><tr><td>dbfs:/FileStore/tables/parquet/part-00000-tid-1919700065082306584-8b847268-343e-4867-9dcf-6066ff0640c0-65-1-c000.snappy.parquet</td><td>part-00000-tid-1919700065082306584-8b847268-343e-4867-9dcf-6066ff0640c0-65-1-c000.snappy.parquet</td><td>1972</td><td>1704474097000</td></tr></tbody></table></div>"
      ]
     },
     "metadata": {
      "application/vnd.databricks.v1+output": {
       "addedWidgets": {},
       "aggData": [],
       "aggError": "",
       "aggOverflow": false,
       "aggSchema": [],
       "aggSeriesLimitReached": false,
       "aggType": "",
       "arguments": {},
       "columnCustomDisplayInfos": {},
       "data": [
        [
         "dbfs:/FileStore/tables/parquet/_SUCCESS",
         "_SUCCESS",
         0,
         1704474097000
        ],
        [
         "dbfs:/FileStore/tables/parquet/_committed_1919700065082306584",
         "_committed_1919700065082306584",
         123,
         1704474097000
        ],
        [
         "dbfs:/FileStore/tables/parquet/_started_1919700065082306584",
         "_started_1919700065082306584",
         0,
         1704474097000
        ],
        [
         "dbfs:/FileStore/tables/parquet/part-00000-tid-1919700065082306584-8b847268-343e-4867-9dcf-6066ff0640c0-65-1-c000.snappy.parquet",
         "part-00000-tid-1919700065082306584-8b847268-343e-4867-9dcf-6066ff0640c0-65-1-c000.snappy.parquet",
         1972,
         1704474097000
        ]
       ],
       "datasetInfos": [],
       "dbfsResultPath": null,
       "isJsonSchema": true,
       "metadata": {
        "isDbfsCommandResult": false
       },
       "overflow": false,
       "plotOptions": {
        "customPlotOptions": {},
        "displayType": "table",
        "pivotAggregation": null,
        "pivotColumns": null,
        "xColumns": null,
        "yColumns": null
       },
       "removedWidgets": [],
       "schema": [
        {
         "metadata": "{}",
         "name": "path",
         "type": "\"string\""
        },
        {
         "metadata": "{}",
         "name": "name",
         "type": "\"string\""
        },
        {
         "metadata": "{}",
         "name": "size",
         "type": "\"long\""
        },
        {
         "metadata": "{}",
         "name": "modificationTime",
         "type": "\"long\""
        }
       ],
       "type": "table"
      }
     },
     "output_type": "display_data"
    }
   ],
   "source": [
    "%fs\n",
    "ls /FileStore/tables/parquet"
   ]
  },
  {
   "cell_type": "code",
   "execution_count": null,
   "metadata": {
    "application/vnd.databricks.v1+cell": {
     "cellMetadata": {
      "byteLimit": 2048000,
      "rowLimit": 10000
     },
     "inputWidgets": {},
     "nuid": "286fc13e-d45c-44cf-b6ba-991394fdddf2",
     "showTitle": false,
     "title": ""
    }
   },
   "outputs": [
    {
     "data": {
      "text/html": [
       "<style scoped>\n",
       "  .table-result-container {\n",
       "    max-height: 300px;\n",
       "    overflow: auto;\n",
       "  }\n",
       "  table, th, td {\n",
       "    border: 1px solid black;\n",
       "    border-collapse: collapse;\n",
       "  }\n",
       "  th, td {\n",
       "    padding: 5px;\n",
       "  }\n",
       "  th {\n",
       "    text-align: left;\n",
       "  }\n",
       "</style><div class='table-result-container'><table class='table-result'><thead style='background-color: white'><tr><th>value</th></tr></thead><tbody><tr><td>PAR1\u0015\u0000\u0015�\u0003\u0015�\u0001\u0015�슖\f\u001c\u0015(\u0015\u0000\u0015\u0006\u0015\b\u0000\u0000�\u00018\u0002\u0000\u0000\u0000(\u0001\u0005\u0000\u0000\u0000user1\u0011\t\u00002\u0011\t\u00003\u0011\t\u00004\u0011\t\u00005\u0011\t\u00006\u0011\t\u00007\u0011\t\u00008\u0011\t\u00049\u0006\u0011Q\u00000\u0015</td></tr><tr><td>\u00001\u0015</td></tr><tr><td>\u00002\u0015</td></tr><tr><td>\u00003\u0015</td></tr><tr><td>\u00004\u0015</td></tr><tr><td>\u00005\u0015</td></tr><tr><td>\u00006\u0015</td></tr><tr><td>\u00007\u0015</td></tr><tr><td>\u00008\u0015</td></tr><tr><td>(9\u0006\u0000\u0000\u0000user20\u0015\u0004\u0015P\u0015T\u0015����\b<\u0015\u0014\u0015\u0004\u0000\u0000(�\u0001\u0000\u0000\u0000\u0002\u0000\u0000\u0000\u0006\u0000\u0000\u0000\u0004\u0000\u0000\u0000\u0005\u0000\u0000\u0000</td></tr><tr><td>\u0000\u0000\u0000;\u0000\u0000\u0000\u0003\u0000\u0000\u0000J\u0000\u0000\u0000\u0007\u0000\u0000\u0000\u0015\u0000\u0015(\u0015,\u0015����\u0005\u001c\u0015(\u0015\u0004\u0015\u0006\u0015\b\u0000\u0000\u0014L\u0002\u0000\u0000\u0000(\u0001\u0004\u0007\u00102 \u0004e\u0012\u0016p�U\u0000\u0000\u0015\u0004\u0015h\u0015l\u0015���\u0003<\u0015\u001a\u0015\u0004\u0000\u00004�\u0019\u0000\u0000\u0000\u001e\u0000\u0000\u0000#\u0000\u0000\u0000 \u0000\u0000\u0000-\u0000\u0000\u0000/\u0000\u0000\u0000\u0015\u0000\u0000\u0000\u0016\u0000\u0000\u00006\u0000\u0000\u00004\u0000\u0000\u0000\u001b\u0000\u0000\u0000%\u0000\u0000\u0000?\u0000\u0000\u0000\u0015\u0000\u0015(\u0015,\u0015��\u0006\u001c\u0015(\u0015\u0004\u0015\u0006\u0015\b\u0000\u0000\u0014L\u0002\u0000\u0000\u0000(\u0001\u0004\u0007\u00102Tv��\b�\f3\u0000\u0000\u0015\u0004\u0015�\u0001\u0015�\u0001\u0015����</td></tr><tr><td><\u0015\u0012\u0015\u0004\u0000\u0000`4</td></tr><tr><td>\u0000\u0000\u0000Jr manager\u0001\u000e\u0000s\u0015\u000e \u0004\u0000\u0000\u0000head\u0005</td></tr><tr><td>\b$2\u0006\u0000\u0000\u0000worke\u0005\u001b\u0000l</td></tr><tr><td>\u001b\u0001\b\u001c2\u0007\u0000\u0000\u0000Man\u0001E0\t\u0000\u0000\u0000lvl2 head\u0015\u0000\u0015(\u0015,\u0015֪�,\u001c\u0015(\u0015\u0004\u0015\u0006\u0015\b\u0000\u0000\u0014L\u0002\u0000\u0000\u0000(\u0001\u0004\u0007\u0010!0\u0004e\u0013\u0016@'�\u0000\u0000\u0015\u0004\u0015H\u0015L\u0015����\u000e<\u0015\u0012\u0015\u0004\u0000\u0000$��~\u0001\u0000��\u0001\u0000p\u0011\u0001\u0000`�\u0000\u0000ȯ\u0000\u0000�a\u0000\u0000P�\u0000\u0000�\t\u0001\u0000 �\u0000\u0000\u0015\u0000\u0015(\u0015,\u0015���\t\u001c\u0015(\u0015\u0004\u0015\u0006\u0015\b\u0000\u0000\u0014L\u0002\u0000\u0000\u0000(\u0001\u0004\u0007\u0010!Ced&$VG�\u0000\u0000\u0019\u0011\u0002\u0019\u0018\u0005user1\u0019\u0018\u0005user9\u0015\u0002\u0019\u0016\u0000\u0000\u0019\u0011\u0002\u0019\u0018\u0004\u0001\u0000\u0000\u0000\u0019\u0018\u0004J\u0000\u0000\u0000\u0015\u0002\u0019\u0016\u0000\u0000\u0019\u0011\u0002\u0019\u0018\u0004\u0015\u0000\u0000\u0000\u0019\u0018\u0004?\u0000\u0000\u0000\u0015\u0002\u0019\u0016\u0000\u0000\u0019\u0011\u0002\u0019\u0018</td></tr><tr><td>Jr manager\u0019\u0018\u0006worker\u0015\u0002\u0019\u0016\u0000\u0000\u0019\u0011\u0002\u0019\u0018\u0004�a\u0000\u0000\u0019\u0018\u0004��\u0001\u0000\u0015\u0002\u0019\u0016\u0000\u0000\u0019\u001c\u0016\b\u0015�\u0001\u0016\u0000\u0000\u0000\u0019\u001c\u0016�\u0002\u0015Z\u0016\u0000\u0000\u0000\u0019\u001c\u0016�\u0004\u0015Z\u0016\u0000\u0000\u0000\u0019\u001c\u0016�\u0007\u0015X\u0016\u0000\u0000\u0000\u0019\u001c\u0016�\b\u0015X\u0016\u0000\u0000\u0000\u0015\u0002\u0019lH\fspark_schema\u0015</td></tr><tr><td>\u0000\u0015\f%\u0002\u0018\u0004name%\u0000L\u001c\u0000\u0000\u0000\u0015\u0002%\u0002\u0018\u0002id\u0000\u0015\u0002%\u0002\u0018\u0003age\u0000\u0015\f%\u0002\u0018</td></tr><tr><td>department%\u0000L\u001c\u0000\u0000\u0000\u0015\u0002%\u0002\u0018\u0006salary\u0000\u0016(\u0019\u001c\u0019\\&\b\u001c\u0015\f\u00195\u0000\b\u0006\u0019\u0018\u0004name\u0015\u0002\u0016(\u0016�\u0003\u0016�\u0001&\b<6\u0000(\u0005user9\u0018\u0005user1\u0000\u0019\u001c\u0015\u0000\u0015\u0000\u0015\u0002\u0000\u0000\u0016�\u000b\u0015\u0016\u0016�\t\u00152\u0000&�\u0002\u001c\u0015\u0002\u00195\u0004\b\u0006\u0019\u0018\u0002id\u0015\u0002\u0016(\u0016�\u0001\u0016�\u0001&�\u0002&�\u0002\u001c\u0018\u0004J\u0000\u0000\u0000\u0018\u0004\u0001\u0000\u0000\u0000\u0016\u0000(\u0004J\u0000\u0000\u0000\u0018\u0004\u0001\u0000\u0000\u0000\u0000\u0019,\u0015\u0004\u0015\u0004\u0015\u0002\u0000\u0015\u0000\u0015\u0004\u0015\u0002\u0000\u0000\u0016�\u000b\u0015\u0016\u0016�\t\u0015.\u0000&�\u0004\u001c\u0015\u0002\u00195\u0004\b\u0006\u0019\u0018\u0003age\u0015\u0002\u0016(\u0016�\u0001\u0016�\u0001&�\u0004&�\u0003\u001c\u0018\u0004?\u0000\u0000\u0000\u0018\u0004\u0015\u0000\u0000\u0000\u0016\u0000(\u0004?\u0000\u0000\u0000\u0018\u0004\u0015\u0000\u0000\u0000\u0000\u0019,\u0015\u0004\u0015\u0004\u0015\u0002\u0000\u0015\u0000\u0015\u0004\u0015\u0002\u0000\u0000\u0016�\u000b\u0015\u0016\u0016�</td></tr><tr><td>\u0015.\u0000&�\u0007\u001c\u0015\f\u00195\u0004\b\u0006\u0019\u0018</td></tr><tr><td>department\u0015\u0002\u0016(\u0016�\u0002\u0016�\u0002&�\u0007&�\u0005\u001c6\u0000(\u0006worker\u0018</td></tr><tr><td>Jr manager\u0000\u0019,\u0015\u0004\u0015\u0004\u0015\u0002\u0000\u0015\u0000\u0015\u0004\u0015\u0002\u0000\u0000\u0016�\u000b\u0015\u0016\u0016�</td></tr><tr><td>\u0015>\u0000&�\b\u001c\u0015\u0002\u00195\u0004\b\u0006\u0019\u0018\u0006salary\u0015\u0002\u0016(\u0016�\u0001\u0016�\u0001&�\b&�\u0007\u001c\u0018\u0004��\u0001\u0000\u0018\u0004�a\u0000\u0000\u0016\u0000(\u0004��\u0001\u0000\u0018\u0004�a\u0000\u0000\u0000\u0019,\u0015\u0004\u0015\u0004\u0015\u0002\u0000\u0015\u0000\u0015\u0004\u0015\u0002\u0000\u0000\u0016�\u000b\u0015\u0016\u0016�</td></tr><tr><td>\u0015.\u0000\u0016�</td></tr><tr><td>\u0016(&\b\u0016�\t\u0014\u0000\u0000\u0019\\\u0018\u0019org.apache.spark.timeZone\u0018\u0007Etc/UTC\u0000\u0018\u001corg.apache.spark.legacyINT96\u0018\u0000\u0000\u0018\u0018org.apache.spark.version\u0018\u00053.5.0\u0000\u0018)org.apache.spark.sql.parquet.row.metadata\u0018�\u0002{\"type\":\"struct\",\"fields\":[{\"name\":\"name\",\"type\":\"string\",\"nullable\":true,\"metadata\":{}},{\"name\":\"id\",\"type\":\"integer\",\"nullable\":true,\"metadata\":{}},{\"name\":\"age\",\"type\":\"integer\",\"nullable\":true,\"metadata\":{}},{\"name\":\"department\",\"type\":\"string\",\"nullable\":true,\"metadata\":{}},{\"name\":\"salary\",\"type\":\"integer\",\"nullable\":true,\"metadata\":{}}]}\u0000\u0018\u001forg.apache.spark.legacyDateTime\u0018\u0000\u0000\u0018Zparquet-mr version 1.12.3-databricks-0002 (build 2484a95dbe16a0023e3eb29c201f99ff9ea771ee)\u0019\\\u001c\u0000\u0000\u001c\u0000\u0000\u001c\u0000\u0000\u001c\u0000\u0000\u001c\u0000\u0000\u0000�\u0004\u0000\u0000PAR1</td></tr></tbody></table></div>"
      ]
     },
     "metadata": {
      "application/vnd.databricks.v1+output": {
       "addedWidgets": {},
       "aggData": [],
       "aggError": "",
       "aggOverflow": false,
       "aggSchema": [],
       "aggSeriesLimitReached": false,
       "aggType": "",
       "arguments": {},
       "columnCustomDisplayInfos": {},
       "data": [
        [
         "PAR1\u0015\u0000\u0015�\u0003\u0015�\u0001\u0015�슖\f\u001c\u0015(\u0015\u0000\u0015\u0006\u0015\b\u0000\u0000�\u00018\u0002\u0000\u0000\u0000(\u0001\u0005\u0000\u0000\u0000user1\u0011\t\u00002\u0011\t\u00003\u0011\t\u00004\u0011\t\u00005\u0011\t\u00006\u0011\t\u00007\u0011\t\u00008\u0011\t\u00049\u0006\u0011Q\u00000\u0015"
        ],
        [
         "\u00001\u0015"
        ],
        [
         "\u00002\u0015"
        ],
        [
         "\u00003\u0015"
        ],
        [
         "\u00004\u0015"
        ],
        [
         "\u00005\u0015"
        ],
        [
         "\u00006\u0015"
        ],
        [
         "\u00007\u0015"
        ],
        [
         "\u00008\u0015"
        ],
        [
         "(9\u0006\u0000\u0000\u0000user20\u0015\u0004\u0015P\u0015T\u0015����\b<\u0015\u0014\u0015\u0004\u0000\u0000(�\u0001\u0000\u0000\u0000\u0002\u0000\u0000\u0000\u0006\u0000\u0000\u0000\u0004\u0000\u0000\u0000\u0005\u0000\u0000\u0000"
        ],
        [
         "\u0000\u0000\u0000;\u0000\u0000\u0000\u0003\u0000\u0000\u0000J\u0000\u0000\u0000\u0007\u0000\u0000\u0000\u0015\u0000\u0015(\u0015,\u0015����\u0005\u001c\u0015(\u0015\u0004\u0015\u0006\u0015\b\u0000\u0000\u0014L\u0002\u0000\u0000\u0000(\u0001\u0004\u0007\u00102 \u0004e\u0012\u0016p�U\u0000\u0000\u0015\u0004\u0015h\u0015l\u0015���\u0003<\u0015\u001a\u0015\u0004\u0000\u00004�\u0019\u0000\u0000\u0000\u001e\u0000\u0000\u0000#\u0000\u0000\u0000 \u0000\u0000\u0000-\u0000\u0000\u0000/\u0000\u0000\u0000\u0015\u0000\u0000\u0000\u0016\u0000\u0000\u00006\u0000\u0000\u00004\u0000\u0000\u0000\u001b\u0000\u0000\u0000%\u0000\u0000\u0000?\u0000\u0000\u0000\u0015\u0000\u0015(\u0015,\u0015��\u0006\u001c\u0015(\u0015\u0004\u0015\u0006\u0015\b\u0000\u0000\u0014L\u0002\u0000\u0000\u0000(\u0001\u0004\u0007\u00102Tv��\b�\f3\u0000\u0000\u0015\u0004\u0015�\u0001\u0015�\u0001\u0015����"
        ],
        [
         "<\u0015\u0012\u0015\u0004\u0000\u0000`4"
        ],
        [
         "\u0000\u0000\u0000Jr manager\u0001\u000e\u0000s\u0015\u000e \u0004\u0000\u0000\u0000head\u0005"
        ],
        [
         "\b$2\u0006\u0000\u0000\u0000worke\u0005\u001b\u0000l"
        ],
        [
         "\u001b\u0001\b\u001c2\u0007\u0000\u0000\u0000Man\u0001E0\t\u0000\u0000\u0000lvl2 head\u0015\u0000\u0015(\u0015,\u0015֪�,\u001c\u0015(\u0015\u0004\u0015\u0006\u0015\b\u0000\u0000\u0014L\u0002\u0000\u0000\u0000(\u0001\u0004\u0007\u0010!0\u0004e\u0013\u0016@'�\u0000\u0000\u0015\u0004\u0015H\u0015L\u0015����\u000e<\u0015\u0012\u0015\u0004\u0000\u0000$��~\u0001\u0000��\u0001\u0000p\u0011\u0001\u0000`�\u0000\u0000ȯ\u0000\u0000�a\u0000\u0000P�\u0000\u0000�\t\u0001\u0000 �\u0000\u0000\u0015\u0000\u0015(\u0015,\u0015���\t\u001c\u0015(\u0015\u0004\u0015\u0006\u0015\b\u0000\u0000\u0014L\u0002\u0000\u0000\u0000(\u0001\u0004\u0007\u0010!Ced&$VG�\u0000\u0000\u0019\u0011\u0002\u0019\u0018\u0005user1\u0019\u0018\u0005user9\u0015\u0002\u0019\u0016\u0000\u0000\u0019\u0011\u0002\u0019\u0018\u0004\u0001\u0000\u0000\u0000\u0019\u0018\u0004J\u0000\u0000\u0000\u0015\u0002\u0019\u0016\u0000\u0000\u0019\u0011\u0002\u0019\u0018\u0004\u0015\u0000\u0000\u0000\u0019\u0018\u0004?\u0000\u0000\u0000\u0015\u0002\u0019\u0016\u0000\u0000\u0019\u0011\u0002\u0019\u0018"
        ],
        [
         "Jr manager\u0019\u0018\u0006worker\u0015\u0002\u0019\u0016\u0000\u0000\u0019\u0011\u0002\u0019\u0018\u0004�a\u0000\u0000\u0019\u0018\u0004��\u0001\u0000\u0015\u0002\u0019\u0016\u0000\u0000\u0019\u001c\u0016\b\u0015�\u0001\u0016\u0000\u0000\u0000\u0019\u001c\u0016�\u0002\u0015Z\u0016\u0000\u0000\u0000\u0019\u001c\u0016�\u0004\u0015Z\u0016\u0000\u0000\u0000\u0019\u001c\u0016�\u0007\u0015X\u0016\u0000\u0000\u0000\u0019\u001c\u0016�\b\u0015X\u0016\u0000\u0000\u0000\u0015\u0002\u0019lH\fspark_schema\u0015"
        ],
        [
         "\u0000\u0015\f%\u0002\u0018\u0004name%\u0000L\u001c\u0000\u0000\u0000\u0015\u0002%\u0002\u0018\u0002id\u0000\u0015\u0002%\u0002\u0018\u0003age\u0000\u0015\f%\u0002\u0018"
        ],
        [
         "department%\u0000L\u001c\u0000\u0000\u0000\u0015\u0002%\u0002\u0018\u0006salary\u0000\u0016(\u0019\u001c\u0019\\&\b\u001c\u0015\f\u00195\u0000\b\u0006\u0019\u0018\u0004name\u0015\u0002\u0016(\u0016�\u0003\u0016�\u0001&\b<6\u0000(\u0005user9\u0018\u0005user1\u0000\u0019\u001c\u0015\u0000\u0015\u0000\u0015\u0002\u0000\u0000\u0016�\u000b\u0015\u0016\u0016�\t\u00152\u0000&�\u0002\u001c\u0015\u0002\u00195\u0004\b\u0006\u0019\u0018\u0002id\u0015\u0002\u0016(\u0016�\u0001\u0016�\u0001&�\u0002&�\u0002\u001c\u0018\u0004J\u0000\u0000\u0000\u0018\u0004\u0001\u0000\u0000\u0000\u0016\u0000(\u0004J\u0000\u0000\u0000\u0018\u0004\u0001\u0000\u0000\u0000\u0000\u0019,\u0015\u0004\u0015\u0004\u0015\u0002\u0000\u0015\u0000\u0015\u0004\u0015\u0002\u0000\u0000\u0016�\u000b\u0015\u0016\u0016�\t\u0015.\u0000&�\u0004\u001c\u0015\u0002\u00195\u0004\b\u0006\u0019\u0018\u0003age\u0015\u0002\u0016(\u0016�\u0001\u0016�\u0001&�\u0004&�\u0003\u001c\u0018\u0004?\u0000\u0000\u0000\u0018\u0004\u0015\u0000\u0000\u0000\u0016\u0000(\u0004?\u0000\u0000\u0000\u0018\u0004\u0015\u0000\u0000\u0000\u0000\u0019,\u0015\u0004\u0015\u0004\u0015\u0002\u0000\u0015\u0000\u0015\u0004\u0015\u0002\u0000\u0000\u0016�\u000b\u0015\u0016\u0016�"
        ],
        [
         "\u0015.\u0000&�\u0007\u001c\u0015\f\u00195\u0004\b\u0006\u0019\u0018"
        ],
        [
         "department\u0015\u0002\u0016(\u0016�\u0002\u0016�\u0002&�\u0007&�\u0005\u001c6\u0000(\u0006worker\u0018"
        ],
        [
         "Jr manager\u0000\u0019,\u0015\u0004\u0015\u0004\u0015\u0002\u0000\u0015\u0000\u0015\u0004\u0015\u0002\u0000\u0000\u0016�\u000b\u0015\u0016\u0016�"
        ],
        [
         "\u0015>\u0000&�\b\u001c\u0015\u0002\u00195\u0004\b\u0006\u0019\u0018\u0006salary\u0015\u0002\u0016(\u0016�\u0001\u0016�\u0001&�\b&�\u0007\u001c\u0018\u0004��\u0001\u0000\u0018\u0004�a\u0000\u0000\u0016\u0000(\u0004��\u0001\u0000\u0018\u0004�a\u0000\u0000\u0000\u0019,\u0015\u0004\u0015\u0004\u0015\u0002\u0000\u0015\u0000\u0015\u0004\u0015\u0002\u0000\u0000\u0016�\u000b\u0015\u0016\u0016�"
        ],
        [
         "\u0015.\u0000\u0016�"
        ],
        [
         "\u0016(&\b\u0016�\t\u0014\u0000\u0000\u0019\\\u0018\u0019org.apache.spark.timeZone\u0018\u0007Etc/UTC\u0000\u0018\u001corg.apache.spark.legacyINT96\u0018\u0000\u0000\u0018\u0018org.apache.spark.version\u0018\u00053.5.0\u0000\u0018)org.apache.spark.sql.parquet.row.metadata\u0018�\u0002{\"type\":\"struct\",\"fields\":[{\"name\":\"name\",\"type\":\"string\",\"nullable\":true,\"metadata\":{}},{\"name\":\"id\",\"type\":\"integer\",\"nullable\":true,\"metadata\":{}},{\"name\":\"age\",\"type\":\"integer\",\"nullable\":true,\"metadata\":{}},{\"name\":\"department\",\"type\":\"string\",\"nullable\":true,\"metadata\":{}},{\"name\":\"salary\",\"type\":\"integer\",\"nullable\":true,\"metadata\":{}}]}\u0000\u0018\u001forg.apache.spark.legacyDateTime\u0018\u0000\u0000\u0018Zparquet-mr version 1.12.3-databricks-0002 (build 2484a95dbe16a0023e3eb29c201f99ff9ea771ee)\u0019\\\u001c\u0000\u0000\u001c\u0000\u0000\u001c\u0000\u0000\u001c\u0000\u0000\u001c\u0000\u0000\u0000�\u0004\u0000\u0000PAR1"
        ]
       ],
       "datasetInfos": [],
       "dbfsResultPath": null,
       "isJsonSchema": true,
       "metadata": {},
       "overflow": false,
       "plotOptions": {
        "customPlotOptions": {},
        "displayType": "table",
        "pivotAggregation": null,
        "pivotColumns": null,
        "xColumns": null,
        "yColumns": null
       },
       "removedWidgets": [],
       "schema": [
        {
         "metadata": "{}",
         "name": "value",
         "type": "\"string\""
        }
       ],
       "type": "table"
      }
     },
     "output_type": "display_data"
    }
   ],
   "source": [
    "display(spark.read.text(\"dbfs:/FileStore/tables/parquet/part-00000-tid-1919700065082306584-8b847268-343e-4867-9dcf-6066ff0640c0-65-1-c000.snappy.parquet\"))"
   ]
  },
  {
   "cell_type": "code",
   "execution_count": null,
   "metadata": {
    "application/vnd.databricks.v1+cell": {
     "cellMetadata": {
      "byteLimit": 2048000,
      "implicitDf": true,
      "rowLimit": 10000
     },
     "inputWidgets": {},
     "nuid": "60da5059-1c92-487f-8749-e0e15221a9ab",
     "showTitle": false,
     "title": ""
    }
   },
   "outputs": [],
   "source": [
    "df.write.format(\"delta\").mode(\"overwrite\").save(\"/FileStore/tables/target/delta\")\n"
   ]
  },
  {
   "cell_type": "code",
   "execution_count": null,
   "metadata": {
    "application/vnd.databricks.v1+cell": {
     "cellMetadata": {
      "byteLimit": 2048000,
      "rowLimit": 10000
     },
     "inputWidgets": {},
     "nuid": "27f4a3b1-34a2-46a7-90b0-80c0a6eda91a",
     "showTitle": false,
     "title": ""
    }
   },
   "outputs": [
    {
     "data": {
      "text/html": [
       "<style scoped>\n",
       "  .table-result-container {\n",
       "    max-height: 300px;\n",
       "    overflow: auto;\n",
       "  }\n",
       "  table, th, td {\n",
       "    border: 1px solid black;\n",
       "    border-collapse: collapse;\n",
       "  }\n",
       "  th, td {\n",
       "    padding: 5px;\n",
       "  }\n",
       "  th {\n",
       "    text-align: left;\n",
       "  }\n",
       "</style><div class='table-result-container'><table class='table-result'><thead style='background-color: white'><tr><th>path</th><th>name</th><th>size</th><th>modificationTime</th></tr></thead><tbody><tr><td>dbfs:/FileStore/tables/target/delta/_delta_log/.s3-optimization-0</td><td>.s3-optimization-0</td><td>0</td><td>1704474642000</td></tr><tr><td>dbfs:/FileStore/tables/target/delta/_delta_log/.s3-optimization-1</td><td>.s3-optimization-1</td><td>0</td><td>1704474642000</td></tr><tr><td>dbfs:/FileStore/tables/target/delta/_delta_log/.s3-optimization-2</td><td>.s3-optimization-2</td><td>0</td><td>1704474642000</td></tr><tr><td>dbfs:/FileStore/tables/target/delta/_delta_log/00000000000000000000.crc</td><td>00000000000000000000.crc</td><td>2840</td><td>1704474647000</td></tr><tr><td>dbfs:/FileStore/tables/target/delta/_delta_log/00000000000000000000.json</td><td>00000000000000000000.json</td><td>1864</td><td>1704474642000</td></tr></tbody></table></div>"
      ]
     },
     "metadata": {
      "application/vnd.databricks.v1+output": {
       "addedWidgets": {},
       "aggData": [],
       "aggError": "",
       "aggOverflow": false,
       "aggSchema": [],
       "aggSeriesLimitReached": false,
       "aggType": "",
       "arguments": {},
       "columnCustomDisplayInfos": {},
       "data": [
        [
         "dbfs:/FileStore/tables/target/delta/_delta_log/.s3-optimization-0",
         ".s3-optimization-0",
         0,
         1704474642000
        ],
        [
         "dbfs:/FileStore/tables/target/delta/_delta_log/.s3-optimization-1",
         ".s3-optimization-1",
         0,
         1704474642000
        ],
        [
         "dbfs:/FileStore/tables/target/delta/_delta_log/.s3-optimization-2",
         ".s3-optimization-2",
         0,
         1704474642000
        ],
        [
         "dbfs:/FileStore/tables/target/delta/_delta_log/00000000000000000000.crc",
         "00000000000000000000.crc",
         2840,
         1704474647000
        ],
        [
         "dbfs:/FileStore/tables/target/delta/_delta_log/00000000000000000000.json",
         "00000000000000000000.json",
         1864,
         1704474642000
        ]
       ],
       "datasetInfos": [],
       "dbfsResultPath": null,
       "isJsonSchema": true,
       "metadata": {
        "isDbfsCommandResult": false
       },
       "overflow": false,
       "plotOptions": {
        "customPlotOptions": {},
        "displayType": "table",
        "pivotAggregation": null,
        "pivotColumns": null,
        "xColumns": null,
        "yColumns": null
       },
       "removedWidgets": [],
       "schema": [
        {
         "metadata": "{}",
         "name": "path",
         "type": "\"string\""
        },
        {
         "metadata": "{}",
         "name": "name",
         "type": "\"string\""
        },
        {
         "metadata": "{}",
         "name": "size",
         "type": "\"long\""
        },
        {
         "metadata": "{}",
         "name": "modificationTime",
         "type": "\"long\""
        }
       ],
       "type": "table"
      }
     },
     "output_type": "display_data"
    }
   ],
   "source": [
    "%fs\n",
    "ls dbfs:/FileStore/tables/target/delta/_delta_log"
   ]
  },
  {
   "cell_type": "code",
   "execution_count": null,
   "metadata": {
    "application/vnd.databricks.v1+cell": {
     "cellMetadata": {
      "byteLimit": 2048000,
      "rowLimit": 10000
     },
     "inputWidgets": {},
     "nuid": "eb53b47c-8fce-4f1c-82ba-cb1c76847a9b",
     "showTitle": false,
     "title": ""
    }
   },
   "outputs": [
    {
     "data": {
      "text/html": [
       "<style scoped>\n",
       "  .table-result-container {\n",
       "    max-height: 300px;\n",
       "    overflow: auto;\n",
       "  }\n",
       "  table, th, td {\n",
       "    border: 1px solid black;\n",
       "    border-collapse: collapse;\n",
       "  }\n",
       "  th, td {\n",
       "    padding: 5px;\n",
       "  }\n",
       "  th {\n",
       "    text-align: left;\n",
       "  }\n",
       "</style><div class='table-result-container'><table class='table-result'><thead style='background-color: white'><tr><th>value</th></tr></thead><tbody><tr><td>{\"commitInfo\":{\"timestamp\":1704474641891,\"userId\":\"5220436575086802\",\"userName\":\"abhirambasa@gmail.com\",\"operation\":\"WRITE\",\"operationParameters\":{\"mode\":\"Overwrite\",\"statsOnLoad\":false,\"partitionBy\":\"[]\"},\"notebook\":{\"notebookId\":\"3346343113817821\"},\"clusterId\":\"0105-162149-saxc1bh3\",\"isolationLevel\":\"WriteSerializable\",\"isBlindAppend\":false,\"operationMetrics\":{\"numFiles\":\"1\",\"numOutputRows\":\"20\",\"numOutputBytes\":\"1972\"},\"tags\":{\"restoresDeletedRows\":\"false\"},\"engineInfo\":\"Databricks-Runtime/14.2.x-scala2.12\",\"txnId\":\"4859f97f-cdd4-4f8b-a07f-4d24222b7ad6\"}}</td></tr><tr><td>{\"metaData\":{\"id\":\"7e5abd0b-9389-4828-8031-5a88a4d71c0b\",\"format\":{\"provider\":\"parquet\",\"options\":{}},\"schemaString\":\"{\\\"type\\\":\\\"struct\\\",\\\"fields\\\":[{\\\"name\\\":\\\"name\\\",\\\"type\\\":\\\"string\\\",\\\"nullable\\\":true,\\\"metadata\\\":{}},{\\\"name\\\":\\\"id\\\",\\\"type\\\":\\\"integer\\\",\\\"nullable\\\":true,\\\"metadata\\\":{}},{\\\"name\\\":\\\"age\\\",\\\"type\\\":\\\"integer\\\",\\\"nullable\\\":true,\\\"metadata\\\":{}},{\\\"name\\\":\\\"department\\\",\\\"type\\\":\\\"string\\\",\\\"nullable\\\":true,\\\"metadata\\\":{}},{\\\"name\\\":\\\"salary\\\",\\\"type\\\":\\\"integer\\\",\\\"nullable\\\":true,\\\"metadata\\\":{}}]}\",\"partitionColumns\":[],\"configuration\":{},\"createdTime\":1704474640015}}</td></tr><tr><td>{\"protocol\":{\"minReaderVersion\":1,\"minWriterVersion\":2}}</td></tr><tr><td>{\"add\":{\"path\":\"part-00000-29ba884d-1afc-40ad-98a5-03eca0a92eed-c000.snappy.parquet\",\"partitionValues\":{},\"size\":1972,\"modificationTime\":1704474641000,\"dataChange\":true,\"stats\":\"{\\\"numRecords\\\":20,\\\"minValues\\\":{\\\"name\\\":\\\"user1\\\",\\\"id\\\":1,\\\"age\\\":21,\\\"department\\\":\\\"Jr manager\\\",\\\"salary\\\":25000},\\\"maxValues\\\":{\\\"name\\\":\\\"user9\\\",\\\"id\\\":74,\\\"age\\\":63,\\\"department\\\":\\\"worker\\\",\\\"salary\\\":100000},\\\"nullCount\\\":{\\\"name\\\":0,\\\"id\\\":0,\\\"age\\\":0,\\\"department\\\":0,\\\"salary\\\":0}}\",\"tags\":{\"INSERTION_TIME\":\"1704474641000000\",\"MIN_INSERTION_TIME\":\"1704474641000000\",\"MAX_INSERTION_TIME\":\"1704474641000000\",\"OPTIMIZE_TARGET_SIZE\":\"268435456\"}}}</td></tr></tbody></table></div>"
      ]
     },
     "metadata": {
      "application/vnd.databricks.v1+output": {
       "addedWidgets": {},
       "aggData": [],
       "aggError": "",
       "aggOverflow": false,
       "aggSchema": [],
       "aggSeriesLimitReached": false,
       "aggType": "",
       "arguments": {},
       "columnCustomDisplayInfos": {},
       "data": [
        [
         "{\"commitInfo\":{\"timestamp\":1704474641891,\"userId\":\"5220436575086802\",\"userName\":\"abhirambasa@gmail.com\",\"operation\":\"WRITE\",\"operationParameters\":{\"mode\":\"Overwrite\",\"statsOnLoad\":false,\"partitionBy\":\"[]\"},\"notebook\":{\"notebookId\":\"3346343113817821\"},\"clusterId\":\"0105-162149-saxc1bh3\",\"isolationLevel\":\"WriteSerializable\",\"isBlindAppend\":false,\"operationMetrics\":{\"numFiles\":\"1\",\"numOutputRows\":\"20\",\"numOutputBytes\":\"1972\"},\"tags\":{\"restoresDeletedRows\":\"false\"},\"engineInfo\":\"Databricks-Runtime/14.2.x-scala2.12\",\"txnId\":\"4859f97f-cdd4-4f8b-a07f-4d24222b7ad6\"}}"
        ],
        [
         "{\"metaData\":{\"id\":\"7e5abd0b-9389-4828-8031-5a88a4d71c0b\",\"format\":{\"provider\":\"parquet\",\"options\":{}},\"schemaString\":\"{\\\"type\\\":\\\"struct\\\",\\\"fields\\\":[{\\\"name\\\":\\\"name\\\",\\\"type\\\":\\\"string\\\",\\\"nullable\\\":true,\\\"metadata\\\":{}},{\\\"name\\\":\\\"id\\\",\\\"type\\\":\\\"integer\\\",\\\"nullable\\\":true,\\\"metadata\\\":{}},{\\\"name\\\":\\\"age\\\",\\\"type\\\":\\\"integer\\\",\\\"nullable\\\":true,\\\"metadata\\\":{}},{\\\"name\\\":\\\"department\\\",\\\"type\\\":\\\"string\\\",\\\"nullable\\\":true,\\\"metadata\\\":{}},{\\\"name\\\":\\\"salary\\\",\\\"type\\\":\\\"integer\\\",\\\"nullable\\\":true,\\\"metadata\\\":{}}]}\",\"partitionColumns\":[],\"configuration\":{},\"createdTime\":1704474640015}}"
        ],
        [
         "{\"protocol\":{\"minReaderVersion\":1,\"minWriterVersion\":2}}"
        ],
        [
         "{\"add\":{\"path\":\"part-00000-29ba884d-1afc-40ad-98a5-03eca0a92eed-c000.snappy.parquet\",\"partitionValues\":{},\"size\":1972,\"modificationTime\":1704474641000,\"dataChange\":true,\"stats\":\"{\\\"numRecords\\\":20,\\\"minValues\\\":{\\\"name\\\":\\\"user1\\\",\\\"id\\\":1,\\\"age\\\":21,\\\"department\\\":\\\"Jr manager\\\",\\\"salary\\\":25000},\\\"maxValues\\\":{\\\"name\\\":\\\"user9\\\",\\\"id\\\":74,\\\"age\\\":63,\\\"department\\\":\\\"worker\\\",\\\"salary\\\":100000},\\\"nullCount\\\":{\\\"name\\\":0,\\\"id\\\":0,\\\"age\\\":0,\\\"department\\\":0,\\\"salary\\\":0}}\",\"tags\":{\"INSERTION_TIME\":\"1704474641000000\",\"MIN_INSERTION_TIME\":\"1704474641000000\",\"MAX_INSERTION_TIME\":\"1704474641000000\",\"OPTIMIZE_TARGET_SIZE\":\"268435456\"}}}"
        ]
       ],
       "datasetInfos": [],
       "dbfsResultPath": null,
       "isJsonSchema": true,
       "metadata": {},
       "overflow": false,
       "plotOptions": {
        "customPlotOptions": {},
        "displayType": "table",
        "pivotAggregation": null,
        "pivotColumns": null,
        "xColumns": null,
        "yColumns": null
       },
       "removedWidgets": [],
       "schema": [
        {
         "metadata": "{}",
         "name": "value",
         "type": "\"string\""
        }
       ],
       "type": "table"
      }
     },
     "output_type": "display_data"
    }
   ],
   "source": [
    "display(spark.read.text(\"dbfs:/FileStore/tables/target/delta/_delta_log/00000000000000000000.json\"))"
   ]
  },
  {
   "cell_type": "code",
   "execution_count": null,
   "metadata": {
    "application/vnd.databricks.v1+cell": {
     "cellMetadata": {
      "byteLimit": 2048000,
      "implicitDf": true,
      "rowLimit": 10000
     },
     "inputWidgets": {},
     "nuid": "a2cf3014-8353-45fd-b085-1dd24bbd603a",
     "showTitle": false,
     "title": ""
    }
   },
   "outputs": [
    {
     "data": {
      "text/html": [
       "<style scoped>\n",
       "  .table-result-container {\n",
       "    max-height: 300px;\n",
       "    overflow: auto;\n",
       "  }\n",
       "  table, th, td {\n",
       "    border: 1px solid black;\n",
       "    border-collapse: collapse;\n",
       "  }\n",
       "  th, td {\n",
       "    padding: 5px;\n",
       "  }\n",
       "  th {\n",
       "    text-align: left;\n",
       "  }\n",
       "</style><div class='table-result-container'><table class='table-result'><thead style='background-color: white'><tr><th>name</th><th>id</th><th>age</th><th>department</th><th>salary</th></tr></thead><tbody><tr><td>user1</td><td>1</td><td>25</td><td>Jr manager</td><td>98000</td></tr><tr><td>user2</td><td>2</td><td>30</td><td>sr manager</td><td>100000</td></tr><tr><td>user3</td><td>6</td><td>35</td><td>sr manager</td><td>100000</td></tr><tr><td>user4</td><td>4</td><td>32</td><td>head</td><td>70000</td></tr><tr><td>user5</td><td>1</td><td>45</td><td>Jr manager</td><td>60000</td></tr><tr><td>user6</td><td>6</td><td>47</td><td>head2</td><td>45000</td></tr><tr><td>user7</td><td>5</td><td>21</td><td>worker</td><td>25000</td></tr><tr><td>user8</td><td>1</td><td>22</td><td>Jr manager</td><td>50000</td></tr><tr><td>user9</td><td>10</td><td>54</td><td>lead</td><td>45000</td></tr><tr><td>user10</td><td>59</td><td>52</td><td>lead2</td><td>50000</td></tr><tr><td>user11</td><td>6</td><td>25</td><td>head2</td><td>50000</td></tr><tr><td>user12</td><td>2</td><td>27</td><td>sr manager</td><td>70000</td></tr><tr><td>user13</td><td>59</td><td>54</td><td>lead2</td><td>45000</td></tr><tr><td>user14</td><td>2</td><td>25</td><td>sr manager</td><td>70000</td></tr><tr><td>user15</td><td>1</td><td>32</td><td>Jr manager</td><td>50000</td></tr><tr><td>user16</td><td>3</td><td>37</td><td>worker</td><td>25000</td></tr><tr><td>user17</td><td>74</td><td>63</td><td>Manager</td><td>68000</td></tr><tr><td>user18</td><td>7</td><td>25</td><td>head</td><td>45000</td></tr><tr><td>user19</td><td>10</td><td>32</td><td>lvl2 head</td><td>52000</td></tr><tr><td>user20</td><td>10</td><td>32</td><td>lvl2 head</td><td>52000</td></tr></tbody></table></div>"
      ]
     },
     "metadata": {
      "application/vnd.databricks.v1+output": {
       "addedWidgets": {},
       "aggData": [],
       "aggError": "",
       "aggOverflow": false,
       "aggSchema": [],
       "aggSeriesLimitReached": false,
       "aggType": "",
       "arguments": {},
       "columnCustomDisplayInfos": {},
       "data": [
        [
         "user1",
         1,
         25,
         "Jr manager",
         98000
        ],
        [
         "user2",
         2,
         30,
         "sr manager",
         100000
        ],
        [
         "user3",
         6,
         35,
         "sr manager",
         100000
        ],
        [
         "user4",
         4,
         32,
         "head",
         70000
        ],
        [
         "user5",
         1,
         45,
         "Jr manager",
         60000
        ],
        [
         "user6",
         6,
         47,
         "head2",
         45000
        ],
        [
         "user7",
         5,
         21,
         "worker",
         25000
        ],
        [
         "user8",
         1,
         22,
         "Jr manager",
         50000
        ],
        [
         "user9",
         10,
         54,
         "lead",
         45000
        ],
        [
         "user10",
         59,
         52,
         "lead2",
         50000
        ],
        [
         "user11",
         6,
         25,
         "head2",
         50000
        ],
        [
         "user12",
         2,
         27,
         "sr manager",
         70000
        ],
        [
         "user13",
         59,
         54,
         "lead2",
         45000
        ],
        [
         "user14",
         2,
         25,
         "sr manager",
         70000
        ],
        [
         "user15",
         1,
         32,
         "Jr manager",
         50000
        ],
        [
         "user16",
         3,
         37,
         "worker",
         25000
        ],
        [
         "user17",
         74,
         63,
         "Manager",
         68000
        ],
        [
         "user18",
         7,
         25,
         "head",
         45000
        ],
        [
         "user19",
         10,
         32,
         "lvl2 head",
         52000
        ],
        [
         "user20",
         10,
         32,
         "lvl2 head",
         52000
        ]
       ],
       "datasetInfos": [],
       "dbfsResultPath": null,
       "isJsonSchema": true,
       "metadata": {
        "dataframeName": "_sqldf",
        "executionCount": 30
       },
       "overflow": false,
       "plotOptions": {
        "customPlotOptions": {},
        "displayType": "table",
        "pivotAggregation": null,
        "pivotColumns": null,
        "xColumns": null,
        "yColumns": null
       },
       "removedWidgets": [],
       "schema": [
        {
         "metadata": "{}",
         "name": "name",
         "type": "\"string\""
        },
        {
         "metadata": "{}",
         "name": "id",
         "type": "\"integer\""
        },
        {
         "metadata": "{}",
         "name": "age",
         "type": "\"integer\""
        },
        {
         "metadata": "{}",
         "name": "department",
         "type": "\"string\""
        },
        {
         "metadata": "{}",
         "name": "salary",
         "type": "\"integer\""
        }
       ],
       "type": "table"
      }
     },
     "output_type": "display_data"
    }
   ],
   "source": [
    "%sql\n",
    "select * from delta.`/FileStore/tables/target/delta/`"
   ]
  },
  {
   "cell_type": "code",
   "execution_count": null,
   "metadata": {
    "application/vnd.databricks.v1+cell": {
     "cellMetadata": {
      "byteLimit": 2048000,
      "implicitDf": true,
      "rowLimit": 10000
     },
     "inputWidgets": {},
     "nuid": "4a7f6ed5-8756-4869-b72d-d8cc978ab7a6",
     "showTitle": false,
     "title": ""
    }
   },
   "outputs": [
    {
     "data": {
      "text/html": [
       "<style scoped>\n",
       "  .table-result-container {\n",
       "    max-height: 300px;\n",
       "    overflow: auto;\n",
       "  }\n",
       "  table, th, td {\n",
       "    border: 1px solid black;\n",
       "    border-collapse: collapse;\n",
       "  }\n",
       "  th, td {\n",
       "    padding: 5px;\n",
       "  }\n",
       "  th {\n",
       "    text-align: left;\n",
       "  }\n",
       "</style><div class='table-result-container'><table class='table-result'><thead style='background-color: white'><tr></tr></thead><tbody></tbody></table></div>"
      ]
     },
     "metadata": {
      "application/vnd.databricks.v1+output": {
       "addedWidgets": {},
       "aggData": [],
       "aggError": "",
       "aggOverflow": false,
       "aggSchema": [],
       "aggSeriesLimitReached": false,
       "aggType": "",
       "arguments": {},
       "columnCustomDisplayInfos": {},
       "data": [],
       "datasetInfos": [],
       "dbfsResultPath": null,
       "isJsonSchema": true,
       "metadata": {
        "dataframeName": null
       },
       "overflow": false,
       "plotOptions": {
        "customPlotOptions": {},
        "displayType": "table",
        "pivotAggregation": null,
        "pivotColumns": null,
        "xColumns": null,
        "yColumns": null
       },
       "removedWidgets": [],
       "schema": [],
       "type": "table"
      }
     },
     "output_type": "display_data"
    }
   ],
   "source": [
    "%sql\n",
    "create database emp\n"
   ]
  },
  {
   "cell_type": "code",
   "execution_count": null,
   "metadata": {
    "application/vnd.databricks.v1+cell": {
     "cellMetadata": {
      "byteLimit": 2048000,
      "implicitDf": true,
      "rowLimit": 10000
     },
     "inputWidgets": {},
     "nuid": "ae94474b-21b4-4f9e-9316-30faa351b73a",
     "showTitle": false,
     "title": ""
    }
   },
   "outputs": [
    {
     "data": {
      "text/html": [
       "<style scoped>\n",
       "  .table-result-container {\n",
       "    max-height: 300px;\n",
       "    overflow: auto;\n",
       "  }\n",
       "  table, th, td {\n",
       "    border: 1px solid black;\n",
       "    border-collapse: collapse;\n",
       "  }\n",
       "  th, td {\n",
       "    padding: 5px;\n",
       "  }\n",
       "  th {\n",
       "    text-align: left;\n",
       "  }\n",
       "</style><div class='table-result-container'><table class='table-result'><thead style='background-color: white'><tr></tr></thead><tbody></tbody></table></div>"
      ]
     },
     "metadata": {
      "application/vnd.databricks.v1+output": {
       "addedWidgets": {},
       "aggData": [],
       "aggError": "",
       "aggOverflow": false,
       "aggSchema": [],
       "aggSeriesLimitReached": false,
       "aggType": "",
       "arguments": {},
       "columnCustomDisplayInfos": {},
       "data": [],
       "datasetInfos": [],
       "dbfsResultPath": null,
       "isJsonSchema": true,
       "metadata": {
        "dataframeName": null
       },
       "overflow": false,
       "plotOptions": {
        "customPlotOptions": {},
        "displayType": "table",
        "pivotAggregation": null,
        "pivotColumns": null,
        "xColumns": null,
        "yColumns": null
       },
       "removedWidgets": [],
       "schema": [],
       "type": "table"
      }
     },
     "output_type": "display_data"
    }
   ],
   "source": [
    "%sql\n",
    "use emp"
   ]
  },
  {
   "cell_type": "code",
   "execution_count": null,
   "metadata": {
    "application/vnd.databricks.v1+cell": {
     "cellMetadata": {
      "byteLimit": 2048000,
      "rowLimit": 10000
     },
     "inputWidgets": {},
     "nuid": "28ad3b7b-fbf6-4ddf-aaff-4d7026b9f9de",
     "showTitle": false,
     "title": ""
    }
   },
   "outputs": [
    {
     "data": {
      "text/plain": [
       "<delta.tables.DeltaTable at 0x7fd4fe185bd0>"
      ]
     },
     "execution_count": 32,
     "metadata": {},
     "output_type": "execute_result"
    }
   ],
   "source": [
    "DeltaTable.create(spark)\\\n",
    "    .tableName(\"emp10\") \\\n",
    "    .addColumn(\"name\",\"STRING\")\\\n",
    "    .execute()"
   ]
  },
  {
   "cell_type": "code",
   "execution_count": null,
   "metadata": {
    "application/vnd.databricks.v1+cell": {
     "cellMetadata": {
      "byteLimit": 2048000,
      "rowLimit": 10000
     },
     "inputWidgets": {},
     "nuid": "146aa969-bc9e-4a15-b594-4085f9aaceed",
     "showTitle": false,
     "title": ""
    }
   },
   "outputs": [
    {
     "data": {
      "text/html": [
       "<style scoped>\n",
       "  .table-result-container {\n",
       "    max-height: 300px;\n",
       "    overflow: auto;\n",
       "  }\n",
       "  table, th, td {\n",
       "    border: 1px solid black;\n",
       "    border-collapse: collapse;\n",
       "  }\n",
       "  th, td {\n",
       "    padding: 5px;\n",
       "  }\n",
       "  th {\n",
       "    text-align: left;\n",
       "  }\n",
       "</style><div class='table-result-container'><table class='table-result'><thead style='background-color: white'><tr><th>name</th></tr></thead><tbody><tr><td>abhiram</td></tr><tr><td>ram</td></tr></tbody></table></div>"
      ]
     },
     "metadata": {
      "application/vnd.databricks.v1+output": {
       "addedWidgets": {},
       "aggData": [],
       "aggError": "",
       "aggOverflow": false,
       "aggSchema": [],
       "aggSeriesLimitReached": false,
       "aggType": "",
       "arguments": {},
       "columnCustomDisplayInfos": {},
       "data": [
        [
         "abhiram"
        ],
        [
         "ram"
        ]
       ],
       "datasetInfos": [],
       "dbfsResultPath": null,
       "isJsonSchema": true,
       "metadata": {},
       "overflow": false,
       "plotOptions": {
        "customPlotOptions": {},
        "displayType": "table",
        "pivotAggregation": null,
        "pivotColumns": null,
        "xColumns": null,
        "yColumns": null
       },
       "removedWidgets": [],
       "schema": [
        {
         "metadata": "{}",
         "name": "name",
         "type": "\"string\""
        }
       ],
       "type": "table"
      }
     },
     "output_type": "display_data"
    }
   ],
   "source": [
    "display(spark.table(\"emp10\"))"
   ]
  },
  {
   "cell_type": "code",
   "execution_count": null,
   "metadata": {
    "application/vnd.databricks.v1+cell": {
     "cellMetadata": {
      "byteLimit": 2048000,
      "implicitDf": true,
      "rowLimit": 10000
     },
     "inputWidgets": {},
     "nuid": "1ad34c7c-5028-4e1d-ba43-d2fb8d80547f",
     "showTitle": false,
     "title": ""
    }
   },
   "outputs": [
    {
     "data": {
      "text/html": [
       "<style scoped>\n",
       "  .table-result-container {\n",
       "    max-height: 300px;\n",
       "    overflow: auto;\n",
       "  }\n",
       "  table, th, td {\n",
       "    border: 1px solid black;\n",
       "    border-collapse: collapse;\n",
       "  }\n",
       "  th, td {\n",
       "    padding: 5px;\n",
       "  }\n",
       "  th {\n",
       "    text-align: left;\n",
       "  }\n",
       "</style><div class='table-result-container'><table class='table-result'><thead style='background-color: white'><tr><th>num_affected_rows</th><th>num_inserted_rows</th></tr></thead><tbody><tr><td>2</td><td>2</td></tr></tbody></table></div>"
      ]
     },
     "metadata": {
      "application/vnd.databricks.v1+output": {
       "addedWidgets": {},
       "aggData": [],
       "aggError": "",
       "aggOverflow": false,
       "aggSchema": [],
       "aggSeriesLimitReached": false,
       "aggType": "",
       "arguments": {},
       "columnCustomDisplayInfos": {},
       "data": [
        [
         2,
         2
        ]
       ],
       "datasetInfos": [],
       "dbfsResultPath": null,
       "isJsonSchema": true,
       "metadata": {
        "dataframeName": "_sqldf",
        "executionCount": 34
       },
       "overflow": false,
       "plotOptions": {
        "customPlotOptions": {},
        "displayType": "table",
        "pivotAggregation": null,
        "pivotColumns": null,
        "xColumns": null,
        "yColumns": null
       },
       "removedWidgets": [],
       "schema": [
        {
         "metadata": "{}",
         "name": "num_affected_rows",
         "type": "\"long\""
        },
        {
         "metadata": "{}",
         "name": "num_inserted_rows",
         "type": "\"long\""
        }
       ],
       "type": "table"
      }
     },
     "output_type": "display_data"
    }
   ],
   "source": [
    "%sql\n",
    "insert into emp10 values(\"abhi\"),(\"ram\")"
   ]
  },
  {
   "cell_type": "code",
   "execution_count": null,
   "metadata": {
    "application/vnd.databricks.v1+cell": {
     "cellMetadata": {
      "byteLimit": 2048000,
      "rowLimit": 10000
     },
     "inputWidgets": {},
     "nuid": "3c12bfaa-6abd-4a81-a7ba-58150e688199",
     "showTitle": false,
     "title": ""
    }
   },
   "outputs": [
    {
     "data": {
      "text/plain": [
       "<delta.tables.DeltaTable at 0x7fd4fd7220b0>"
      ]
     },
     "execution_count": 36,
     "metadata": {},
     "output_type": "execute_result"
    }
   ],
   "source": [
    "DeltaTable.create(spark)\\\n",
    "    .tableName(\"emp11\") \\\n",
    "    .addColumn(\"name\",\"STRING\")\\\n",
    "    .execute()"
   ]
  },
  {
   "cell_type": "code",
   "execution_count": null,
   "metadata": {
    "application/vnd.databricks.v1+cell": {
     "cellMetadata": {
      "byteLimit": 2048000,
      "implicitDf": true,
      "rowLimit": 10000
     },
     "inputWidgets": {},
     "nuid": "3e4416e7-740b-40f8-8416-dab6460e5916",
     "showTitle": false,
     "title": ""
    }
   },
   "outputs": [
    {
     "data": {
      "text/html": [
       "<style scoped>\n",
       "  .table-result-container {\n",
       "    max-height: 300px;\n",
       "    overflow: auto;\n",
       "  }\n",
       "  table, th, td {\n",
       "    border: 1px solid black;\n",
       "    border-collapse: collapse;\n",
       "  }\n",
       "  th, td {\n",
       "    padding: 5px;\n",
       "  }\n",
       "  th {\n",
       "    text-align: left;\n",
       "  }\n",
       "</style><div class='table-result-container'><table class='table-result'><thead style='background-color: white'><tr><th>num_affected_rows</th><th>num_inserted_rows</th></tr></thead><tbody><tr><td>2</td><td>2</td></tr></tbody></table></div>"
      ]
     },
     "metadata": {
      "application/vnd.databricks.v1+output": {
       "addedWidgets": {},
       "aggData": [],
       "aggError": "",
       "aggOverflow": false,
       "aggSchema": [],
       "aggSeriesLimitReached": false,
       "aggType": "",
       "arguments": {},
       "columnCustomDisplayInfos": {},
       "data": [
        [
         2,
         2
        ]
       ],
       "datasetInfos": [],
       "dbfsResultPath": null,
       "isJsonSchema": true,
       "metadata": {
        "dataframeName": "_sqldf",
        "executionCount": 37
       },
       "overflow": false,
       "plotOptions": {
        "customPlotOptions": {},
        "displayType": "table",
        "pivotAggregation": null,
        "pivotColumns": null,
        "xColumns": null,
        "yColumns": null
       },
       "removedWidgets": [],
       "schema": [
        {
         "metadata": "{}",
         "name": "num_affected_rows",
         "type": "\"long\""
        },
        {
         "metadata": "{}",
         "name": "num_inserted_rows",
         "type": "\"long\""
        }
       ],
       "type": "table"
      }
     },
     "output_type": "display_data"
    }
   ],
   "source": [
    "%sql\n",
    "insert into emp11 values(\"abhi1\"),(\"ram1\")"
   ]
  },
  {
   "cell_type": "code",
   "execution_count": null,
   "metadata": {
    "application/vnd.databricks.v1+cell": {
     "cellMetadata": {
      "byteLimit": 2048000,
      "rowLimit": 10000
     },
     "inputWidgets": {},
     "nuid": "d241cc4a-4190-4dd7-89e0-ea74d45abd16",
     "showTitle": false,
     "title": ""
    }
   },
   "outputs": [
    {
     "data": {
      "text/html": [
       "<style scoped>\n",
       "  .table-result-container {\n",
       "    max-height: 300px;\n",
       "    overflow: auto;\n",
       "  }\n",
       "  table, th, td {\n",
       "    border: 1px solid black;\n",
       "    border-collapse: collapse;\n",
       "  }\n",
       "  th, td {\n",
       "    padding: 5px;\n",
       "  }\n",
       "  th {\n",
       "    text-align: left;\n",
       "  }\n",
       "</style><div class='table-result-container'><table class='table-result'><thead style='background-color: white'><tr><th>name</th></tr></thead><tbody><tr><td>abhi1</td></tr><tr><td>ram1</td></tr></tbody></table></div>"
      ]
     },
     "metadata": {
      "application/vnd.databricks.v1+output": {
       "addedWidgets": {},
       "aggData": [],
       "aggError": "",
       "aggOverflow": false,
       "aggSchema": [],
       "aggSeriesLimitReached": false,
       "aggType": "",
       "arguments": {},
       "columnCustomDisplayInfos": {},
       "data": [
        [
         "abhi1"
        ],
        [
         "ram1"
        ]
       ],
       "datasetInfos": [],
       "dbfsResultPath": null,
       "isJsonSchema": true,
       "metadata": {},
       "overflow": false,
       "plotOptions": {
        "customPlotOptions": {},
        "displayType": "table",
        "pivotAggregation": null,
        "pivotColumns": null,
        "xColumns": null,
        "yColumns": null
       },
       "removedWidgets": [],
       "schema": [
        {
         "metadata": "{}",
         "name": "name",
         "type": "\"string\""
        }
       ],
       "type": "table"
      }
     },
     "output_type": "display_data"
    }
   ],
   "source": [
    "display(spark.table(\"emp11\"))"
   ]
  },
  {
   "cell_type": "code",
   "execution_count": null,
   "metadata": {
    "application/vnd.databricks.v1+cell": {
     "cellMetadata": {
      "byteLimit": 2048000,
      "implicitDf": true,
      "rowLimit": 10000
     },
     "inputWidgets": {},
     "nuid": "5d2f1a6b-4514-4d31-ad8f-d2c41a8435d2",
     "showTitle": false,
     "title": ""
    }
   },
   "outputs": [
    {
     "data": {
      "text/html": [
       "<style scoped>\n",
       "  .table-result-container {\n",
       "    max-height: 300px;\n",
       "    overflow: auto;\n",
       "  }\n",
       "  table, th, td {\n",
       "    border: 1px solid black;\n",
       "    border-collapse: collapse;\n",
       "  }\n",
       "  th, td {\n",
       "    padding: 5px;\n",
       "  }\n",
       "  th {\n",
       "    text-align: left;\n",
       "  }\n",
       "</style><div class='table-result-container'><table class='table-result'><thead style='background-color: white'><tr><th>num_affected_rows</th></tr></thead><tbody><tr><td>1</td></tr></tbody></table></div>"
      ]
     },
     "metadata": {
      "application/vnd.databricks.v1+output": {
       "addedWidgets": {},
       "aggData": [],
       "aggError": "",
       "aggOverflow": false,
       "aggSchema": [],
       "aggSeriesLimitReached": false,
       "aggType": "",
       "arguments": {},
       "columnCustomDisplayInfos": {},
       "data": [
        [
         1
        ]
       ],
       "datasetInfos": [],
       "dbfsResultPath": null,
       "isJsonSchema": true,
       "metadata": {
        "dataframeName": "_sqldf",
        "executionCount": 41
       },
       "overflow": false,
       "plotOptions": {
        "customPlotOptions": {},
        "displayType": "table",
        "pivotAggregation": null,
        "pivotColumns": null,
        "xColumns": null,
        "yColumns": null
       },
       "removedWidgets": [],
       "schema": [
        {
         "metadata": "{}",
         "name": "num_affected_rows",
         "type": "\"long\""
        }
       ],
       "type": "table"
      }
     },
     "output_type": "display_data"
    }
   ],
   "source": [
    "%sql\n",
    "update emp10 set name = \"abhiram\" where name == \"abhi\""
   ]
  }
 ],
 "metadata": {
  "application/vnd.databricks.v1+notebook": {
   "dashboards": [],
   "language": "python",
   "notebookMetadata": {
    "mostRecentlyExecutedCommandWithImplicitDF": {
     "commandId": 2891289644621374,
     "dataframes": [
      "_sqldf"
     ]
    },
    "pythonIndentUnit": 4
   },
   "notebookName": "delta_lake_prac",
   "widgets": {}
  },
  "language_info": {
   "name": "python"
  }
 },
 "nbformat": 4,
 "nbformat_minor": 0
}
